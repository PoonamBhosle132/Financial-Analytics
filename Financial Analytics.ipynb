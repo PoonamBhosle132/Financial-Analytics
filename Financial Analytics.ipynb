{
 "cells": [
  {
   "cell_type": "markdown",
   "id": "aa91a95e",
   "metadata": {},
   "source": [
    "# Financial Analytics"
   ]
  },
  {
   "cell_type": "markdown",
   "id": "6de19cba",
   "metadata": {},
   "source": [
    "### Problem Statement"
   ]
  },
  {
   "cell_type": "markdown",
   "id": "06c6439c",
   "metadata": {},
   "source": [
    "Without analyzing the competition, it is difficult for a business to survive. \n",
    "So the task here is to analyze the competition for the management to provide better results.\n",
    "This data set has information on the market capitalization of the top 500 companies in India."
   ]
  },
  {
   "cell_type": "code",
   "execution_count": 1,
   "id": "ae97d38a",
   "metadata": {},
   "outputs": [],
   "source": [
    "# import the libraries\n",
    "import pandas as pd\n",
    "import numpy as np"
   ]
  },
  {
   "cell_type": "code",
   "execution_count": 2,
   "id": "42193ea6",
   "metadata": {},
   "outputs": [
    {
     "data": {
      "text/html": [
       "<div>\n",
       "<style scoped>\n",
       "    .dataframe tbody tr th:only-of-type {\n",
       "        vertical-align: middle;\n",
       "    }\n",
       "\n",
       "    .dataframe tbody tr th {\n",
       "        vertical-align: top;\n",
       "    }\n",
       "\n",
       "    .dataframe thead th {\n",
       "        text-align: right;\n",
       "    }\n",
       "</style>\n",
       "<table border=\"1\" class=\"dataframe\">\n",
       "  <thead>\n",
       "    <tr style=\"text-align: right;\">\n",
       "      <th></th>\n",
       "      <th>S.No.</th>\n",
       "      <th>Name</th>\n",
       "      <th>Mar Cap - Crore</th>\n",
       "      <th>Sales Qtr - Crore</th>\n",
       "      <th>Unnamed: 4</th>\n",
       "    </tr>\n",
       "  </thead>\n",
       "  <tbody>\n",
       "    <tr>\n",
       "      <th>0</th>\n",
       "      <td>1</td>\n",
       "      <td>Reliance Inds.</td>\n",
       "      <td>583436.72</td>\n",
       "      <td>99810.00</td>\n",
       "      <td>NaN</td>\n",
       "    </tr>\n",
       "    <tr>\n",
       "      <th>1</th>\n",
       "      <td>2</td>\n",
       "      <td>TCS</td>\n",
       "      <td>563709.84</td>\n",
       "      <td>30904.00</td>\n",
       "      <td>NaN</td>\n",
       "    </tr>\n",
       "    <tr>\n",
       "      <th>2</th>\n",
       "      <td>3</td>\n",
       "      <td>HDFC Bank</td>\n",
       "      <td>482953.59</td>\n",
       "      <td>20581.27</td>\n",
       "      <td>NaN</td>\n",
       "    </tr>\n",
       "    <tr>\n",
       "      <th>3</th>\n",
       "      <td>4</td>\n",
       "      <td>ITC</td>\n",
       "      <td>320985.27</td>\n",
       "      <td>9772.02</td>\n",
       "      <td>NaN</td>\n",
       "    </tr>\n",
       "    <tr>\n",
       "      <th>4</th>\n",
       "      <td>5</td>\n",
       "      <td>H D F C</td>\n",
       "      <td>289497.37</td>\n",
       "      <td>16840.51</td>\n",
       "      <td>NaN</td>\n",
       "    </tr>\n",
       "  </tbody>\n",
       "</table>\n",
       "</div>"
      ],
      "text/plain": [
       "   S.No.            Name  Mar Cap - Crore  Sales Qtr - Crore  Unnamed: 4\n",
       "0      1  Reliance Inds.        583436.72           99810.00         NaN\n",
       "1      2             TCS        563709.84           30904.00         NaN\n",
       "2      3       HDFC Bank        482953.59           20581.27         NaN\n",
       "3      4             ITC        320985.27            9772.02         NaN\n",
       "4      5         H D F C        289497.37           16840.51         NaN"
      ]
     },
     "execution_count": 2,
     "metadata": {},
     "output_type": "execute_result"
    }
   ],
   "source": [
    "# read the dataset and print first five rows\n",
    "df = pd.read_csv(\"Financial Analytics data.csv\")\n",
    "df.head()"
   ]
  },
  {
   "cell_type": "code",
   "execution_count": 3,
   "id": "44a05099",
   "metadata": {},
   "outputs": [
    {
     "data": {
      "text/plain": [
       "(488, 5)"
      ]
     },
     "execution_count": 3,
     "metadata": {},
     "output_type": "execute_result"
    }
   ],
   "source": [
    "# print dimensions of the dataset\n",
    "df.shape"
   ]
  },
  {
   "cell_type": "code",
   "execution_count": 4,
   "id": "0fb212d5",
   "metadata": {},
   "outputs": [
    {
     "data": {
      "text/plain": [
       "S.No.                  int64\n",
       "Name                  object\n",
       "Mar Cap - Crore      float64\n",
       "Sales Qtr - Crore    float64\n",
       "Unnamed: 4           float64\n",
       "dtype: object"
      ]
     },
     "execution_count": 4,
     "metadata": {},
     "output_type": "execute_result"
    }
   ],
   "source": [
    "# see data types of the values hold\n",
    "df.dtypes"
   ]
  },
  {
   "cell_type": "code",
   "execution_count": 5,
   "id": "73fdd94f",
   "metadata": {},
   "outputs": [
    {
     "data": {
      "text/plain": [
       "S.No.                  0\n",
       "Name                   0\n",
       "Mar Cap - Crore        9\n",
       "Sales Qtr - Crore    123\n",
       "Unnamed: 4           394\n",
       "dtype: int64"
      ]
     },
     "execution_count": 5,
     "metadata": {},
     "output_type": "execute_result"
    }
   ],
   "source": [
    "# check number of missing values present in the dataset\n",
    "df.isnull().sum()"
   ]
  },
  {
   "cell_type": "code",
   "execution_count": 6,
   "id": "25cd8f85",
   "metadata": {},
   "outputs": [
    {
     "data": {
      "text/plain": [
       "S.No.                 0.00\n",
       "Name                  0.00\n",
       "Mar Cap - Crore       1.84\n",
       "Sales Qtr - Crore    25.20\n",
       "Unnamed: 4           80.74\n",
       "dtype: float64"
      ]
     },
     "execution_count": 6,
     "metadata": {},
     "output_type": "execute_result"
    }
   ],
   "source": [
    "# print percentage of missing values in the data\n",
    "round(df.isnull().sum()/len(df)*100 ,2)"
   ]
  },
  {
   "cell_type": "code",
   "execution_count": 7,
   "id": "bd8aec5b",
   "metadata": {},
   "outputs": [],
   "source": [
    "# drop the column unnamed\n",
    "df.drop([\"Unnamed: 4\"] , axis = 1, inplace = True)"
   ]
  },
  {
   "cell_type": "code",
   "execution_count": 8,
   "id": "a47b61d6",
   "metadata": {},
   "outputs": [
    {
     "data": {
      "text/plain": [
       "(488, 4)"
      ]
     },
     "execution_count": 8,
     "metadata": {},
     "output_type": "execute_result"
    }
   ],
   "source": [
    "df.shape"
   ]
  },
  {
   "cell_type": "code",
   "execution_count": 9,
   "id": "1a0e78d5",
   "metadata": {},
   "outputs": [],
   "source": [
    "# drop null values from Mar Cap - Crore column\n",
    "df.dropna(inplace= True)"
   ]
  },
  {
   "cell_type": "code",
   "execution_count": 10,
   "id": "cc27158e",
   "metadata": {},
   "outputs": [
    {
     "data": {
      "text/plain": [
       "S.No.                0\n",
       "Name                 0\n",
       "Mar Cap - Crore      0\n",
       "Sales Qtr - Crore    0\n",
       "dtype: int64"
      ]
     },
     "execution_count": 10,
     "metadata": {},
     "output_type": "execute_result"
    }
   ],
   "source": [
    "df.isnull().sum()"
   ]
  },
  {
   "cell_type": "code",
   "execution_count": 11,
   "id": "848c3159",
   "metadata": {},
   "outputs": [
    {
     "data": {
      "text/plain": [
       "(365, 4)"
      ]
     },
     "execution_count": 11,
     "metadata": {},
     "output_type": "execute_result"
    }
   ],
   "source": [
    "df.shape"
   ]
  },
  {
   "cell_type": "code",
   "execution_count": 12,
   "id": "b95a6b59",
   "metadata": {},
   "outputs": [
    {
     "data": {
      "text/html": [
       "<div>\n",
       "<style scoped>\n",
       "    .dataframe tbody tr th:only-of-type {\n",
       "        vertical-align: middle;\n",
       "    }\n",
       "\n",
       "    .dataframe tbody tr th {\n",
       "        vertical-align: top;\n",
       "    }\n",
       "\n",
       "    .dataframe thead th {\n",
       "        text-align: right;\n",
       "    }\n",
       "</style>\n",
       "<table border=\"1\" class=\"dataframe\">\n",
       "  <thead>\n",
       "    <tr style=\"text-align: right;\">\n",
       "      <th></th>\n",
       "      <th>Sr.No.</th>\n",
       "      <th>Company_Name</th>\n",
       "      <th>Mar_Cap_Crore</th>\n",
       "      <th>Sales_Qtr_Crore</th>\n",
       "    </tr>\n",
       "  </thead>\n",
       "  <tbody>\n",
       "    <tr>\n",
       "      <th>0</th>\n",
       "      <td>1</td>\n",
       "      <td>Reliance Inds.</td>\n",
       "      <td>583436.72</td>\n",
       "      <td>99810.00</td>\n",
       "    </tr>\n",
       "    <tr>\n",
       "      <th>1</th>\n",
       "      <td>2</td>\n",
       "      <td>TCS</td>\n",
       "      <td>563709.84</td>\n",
       "      <td>30904.00</td>\n",
       "    </tr>\n",
       "    <tr>\n",
       "      <th>2</th>\n",
       "      <td>3</td>\n",
       "      <td>HDFC Bank</td>\n",
       "      <td>482953.59</td>\n",
       "      <td>20581.27</td>\n",
       "    </tr>\n",
       "    <tr>\n",
       "      <th>3</th>\n",
       "      <td>4</td>\n",
       "      <td>ITC</td>\n",
       "      <td>320985.27</td>\n",
       "      <td>9772.02</td>\n",
       "    </tr>\n",
       "    <tr>\n",
       "      <th>4</th>\n",
       "      <td>5</td>\n",
       "      <td>H D F C</td>\n",
       "      <td>289497.37</td>\n",
       "      <td>16840.51</td>\n",
       "    </tr>\n",
       "  </tbody>\n",
       "</table>\n",
       "</div>"
      ],
      "text/plain": [
       "   Sr.No.    Company_Name  Mar_Cap_Crore  Sales_Qtr_Crore\n",
       "0       1  Reliance Inds.      583436.72         99810.00\n",
       "1       2             TCS      563709.84         30904.00\n",
       "2       3       HDFC Bank      482953.59         20581.27\n",
       "3       4             ITC      320985.27          9772.02\n",
       "4       5         H D F C      289497.37         16840.51"
      ]
     },
     "execution_count": 12,
     "metadata": {},
     "output_type": "execute_result"
    }
   ],
   "source": [
    "# rename the columns\n",
    "dict = {\"S.No.\":\"Sr.No.\" , \"Name\":\"Company_Name\" , \"Mar Cap - Crore\":\"Mar_Cap_Crore\" , \"Sales Qtr - Crore\":\"Sales_Qtr_Crore\"}\n",
    "df.rename(columns = dict , inplace = True)\n",
    "df.head()"
   ]
  },
  {
   "cell_type": "code",
   "execution_count": 13,
   "id": "1aec6431",
   "metadata": {},
   "outputs": [],
   "source": [
    "# set column sr.no. as index for the data\n",
    "df=df.set_index(\"Sr.No.\")"
   ]
  },
  {
   "cell_type": "code",
   "execution_count": 14,
   "id": "c214ed70",
   "metadata": {},
   "outputs": [
    {
     "data": {
      "text/html": [
       "<div>\n",
       "<style scoped>\n",
       "    .dataframe tbody tr th:only-of-type {\n",
       "        vertical-align: middle;\n",
       "    }\n",
       "\n",
       "    .dataframe tbody tr th {\n",
       "        vertical-align: top;\n",
       "    }\n",
       "\n",
       "    .dataframe thead th {\n",
       "        text-align: right;\n",
       "    }\n",
       "</style>\n",
       "<table border=\"1\" class=\"dataframe\">\n",
       "  <thead>\n",
       "    <tr style=\"text-align: right;\">\n",
       "      <th></th>\n",
       "      <th>Company_Name</th>\n",
       "      <th>Mar_Cap_Crore</th>\n",
       "      <th>Sales_Qtr_Crore</th>\n",
       "    </tr>\n",
       "    <tr>\n",
       "      <th>Sr.No.</th>\n",
       "      <th></th>\n",
       "      <th></th>\n",
       "      <th></th>\n",
       "    </tr>\n",
       "  </thead>\n",
       "  <tbody>\n",
       "    <tr>\n",
       "      <th>1</th>\n",
       "      <td>Reliance Inds.</td>\n",
       "      <td>583436.72</td>\n",
       "      <td>99810.00</td>\n",
       "    </tr>\n",
       "    <tr>\n",
       "      <th>2</th>\n",
       "      <td>TCS</td>\n",
       "      <td>563709.84</td>\n",
       "      <td>30904.00</td>\n",
       "    </tr>\n",
       "    <tr>\n",
       "      <th>3</th>\n",
       "      <td>HDFC Bank</td>\n",
       "      <td>482953.59</td>\n",
       "      <td>20581.27</td>\n",
       "    </tr>\n",
       "    <tr>\n",
       "      <th>4</th>\n",
       "      <td>ITC</td>\n",
       "      <td>320985.27</td>\n",
       "      <td>9772.02</td>\n",
       "    </tr>\n",
       "    <tr>\n",
       "      <th>5</th>\n",
       "      <td>H D F C</td>\n",
       "      <td>289497.37</td>\n",
       "      <td>16840.51</td>\n",
       "    </tr>\n",
       "  </tbody>\n",
       "</table>\n",
       "</div>"
      ],
      "text/plain": [
       "          Company_Name  Mar_Cap_Crore  Sales_Qtr_Crore\n",
       "Sr.No.                                                \n",
       "1       Reliance Inds.      583436.72         99810.00\n",
       "2                  TCS      563709.84         30904.00\n",
       "3            HDFC Bank      482953.59         20581.27\n",
       "4                  ITC      320985.27          9772.02\n",
       "5              H D F C      289497.37         16840.51"
      ]
     },
     "execution_count": 14,
     "metadata": {},
     "output_type": "execute_result"
    }
   ],
   "source": [
    "df.head()"
   ]
  },
  {
   "cell_type": "code",
   "execution_count": 15,
   "id": "2571e9cc",
   "metadata": {},
   "outputs": [
    {
     "name": "stdout",
     "output_type": "stream",
     "text": [
      "<class 'pandas.core.frame.DataFrame'>\n",
      "Int64Index: 365 entries, 1 to 499\n",
      "Data columns (total 3 columns):\n",
      " #   Column           Non-Null Count  Dtype  \n",
      "---  ------           --------------  -----  \n",
      " 0   Company_Name     365 non-null    object \n",
      " 1   Mar_Cap_Crore    365 non-null    float64\n",
      " 2   Sales_Qtr_Crore  365 non-null    float64\n",
      "dtypes: float64(2), object(1)\n",
      "memory usage: 11.4+ KB\n"
     ]
    }
   ],
   "source": [
    "# print detail information about the data\n",
    "df.info()"
   ]
  },
  {
   "cell_type": "code",
   "execution_count": 16,
   "id": "af6b6f6a",
   "metadata": {},
   "outputs": [
    {
     "data": {
      "text/html": [
       "<div>\n",
       "<style scoped>\n",
       "    .dataframe tbody tr th:only-of-type {\n",
       "        vertical-align: middle;\n",
       "    }\n",
       "\n",
       "    .dataframe tbody tr th {\n",
       "        vertical-align: top;\n",
       "    }\n",
       "\n",
       "    .dataframe thead th {\n",
       "        text-align: right;\n",
       "    }\n",
       "</style>\n",
       "<table border=\"1\" class=\"dataframe\">\n",
       "  <thead>\n",
       "    <tr style=\"text-align: right;\">\n",
       "      <th></th>\n",
       "      <th>Mar_Cap_Crore</th>\n",
       "      <th>Sales_Qtr_Crore</th>\n",
       "    </tr>\n",
       "  </thead>\n",
       "  <tbody>\n",
       "    <tr>\n",
       "      <th>count</th>\n",
       "      <td>365.000000</td>\n",
       "      <td>365.000000</td>\n",
       "    </tr>\n",
       "    <tr>\n",
       "      <th>mean</th>\n",
       "      <td>31300.970301</td>\n",
       "      <td>4395.976849</td>\n",
       "    </tr>\n",
       "    <tr>\n",
       "      <th>std</th>\n",
       "      <td>67224.641338</td>\n",
       "      <td>11092.206185</td>\n",
       "    </tr>\n",
       "    <tr>\n",
       "      <th>min</th>\n",
       "      <td>3017.070000</td>\n",
       "      <td>47.240000</td>\n",
       "    </tr>\n",
       "    <tr>\n",
       "      <th>25%</th>\n",
       "      <td>5089.870000</td>\n",
       "      <td>593.740000</td>\n",
       "    </tr>\n",
       "    <tr>\n",
       "      <th>50%</th>\n",
       "      <td>9097.330000</td>\n",
       "      <td>1278.300000</td>\n",
       "    </tr>\n",
       "    <tr>\n",
       "      <th>75%</th>\n",
       "      <td>21372.180000</td>\n",
       "      <td>2840.750000</td>\n",
       "    </tr>\n",
       "    <tr>\n",
       "      <th>max</th>\n",
       "      <td>583436.720000</td>\n",
       "      <td>110666.930000</td>\n",
       "    </tr>\n",
       "  </tbody>\n",
       "</table>\n",
       "</div>"
      ],
      "text/plain": [
       "       Mar_Cap_Crore  Sales_Qtr_Crore\n",
       "count     365.000000       365.000000\n",
       "mean    31300.970301      4395.976849\n",
       "std     67224.641338     11092.206185\n",
       "min      3017.070000        47.240000\n",
       "25%      5089.870000       593.740000\n",
       "50%      9097.330000      1278.300000\n",
       "75%     21372.180000      2840.750000\n",
       "max    583436.720000    110666.930000"
      ]
     },
     "execution_count": 16,
     "metadata": {},
     "output_type": "execute_result"
    }
   ],
   "source": [
    "# print statistical measures for the numerical data\n",
    "df.describe()"
   ]
  },
  {
   "cell_type": "markdown",
   "id": "0aaa810e",
   "metadata": {},
   "source": [
    "## Outlier Detection"
   ]
  },
  {
   "cell_type": "code",
   "execution_count": 17,
   "id": "22f55eaf",
   "metadata": {},
   "outputs": [],
   "source": [
    "import matplotlib.pyplot as plt\n",
    "import seaborn as sns"
   ]
  },
  {
   "cell_type": "code",
   "execution_count": 18,
   "id": "6d1233d5",
   "metadata": {},
   "outputs": [
    {
     "data": {
      "image/png": "[encoded data removed]",
      "text/plain": [
       "<Figure size 640x480 with 1 Axes>"
      ]
     },
     "metadata": {},
     "output_type": "display_data"
    }
   ],
   "source": [
    "# plot boxplot of market capital column to check for outliers\n",
    "plt.boxplot(df[\"Mar_Cap_Crore\"])\n",
    "plt.xlabel(\"Market Capital\")\n",
    "plt.title(\"Boxlplot of Market Capital\")\n",
    "plt.show()"
   ]
  },
  {
   "cell_type": "markdown",
   "id": "ffbe8bdb",
   "metadata": {},
   "source": [
    "According to boxplot there are outliers present in the market capital of companies."
   ]
  },
  {
   "cell_type": "code",
   "execution_count": 19,
   "id": "ea34682d",
   "metadata": {},
   "outputs": [
    {
     "data": {
      "image/png": "[encoded data removed]",
      "text/plain": [
       "<Figure size 640x480 with 1 Axes>"
      ]
     },
     "metadata": {},
     "output_type": "display_data"
    }
   ],
   "source": [
    "# plot boxplot of market capital column to check for outliers\n",
    "plt.boxplot(df[\"Sales_Qtr_Crore\"])\n",
    "plt.xlabel(\"Quarterly Sales\")\n",
    "plt.title(\"Boxlplot of quarterly sales of companies\")\n",
    "plt.show()"
   ]
  },
  {
   "cell_type": "markdown",
   "id": "6f525f0f",
   "metadata": {},
   "source": [
    "Also in the column of Quarterly sales for companies outliers are observed."
   ]
  },
  {
   "cell_type": "markdown",
   "id": "577bd033",
   "metadata": {},
   "source": [
    "To build the accurate comparison model we need to drop the outliers or handle it But as we are working on Financial data it is not advisable to drop the outliers."
   ]
  },
  {
   "cell_type": "code",
   "execution_count": 20,
   "id": "8e907bb1",
   "metadata": {},
   "outputs": [
    {
     "name": "stdout",
     "output_type": "stream",
     "text": [
      "Mean of Mar_Cap_Crore is 31300.97\n"
     ]
    }
   ],
   "source": [
    "# print mean of market capital\n",
    "mean = round(df[\"Mar_Cap_Crore\"].mean(),2)\n",
    "print(\"Mean of Mar_Cap_Crore is\", mean)"
   ]
  },
  {
   "cell_type": "code",
   "execution_count": 21,
   "id": "16196159",
   "metadata": {},
   "outputs": [
    {
     "name": "stdout",
     "output_type": "stream",
     "text": [
      "Mean of Sales_Qtr_Crore is 4395.98\n"
     ]
    }
   ],
   "source": [
    "# print mean of market capital\n",
    "mean = round(df[\"Sales_Qtr_Crore\"].mean(),2)\n",
    "print(\"Mean of Sales_Qtr_Crore is\", mean)"
   ]
  },
  {
   "cell_type": "code",
   "execution_count": 22,
   "id": "36637628",
   "metadata": {},
   "outputs": [
    {
     "data": {
      "text/html": [
       "<div>\n",
       "<style scoped>\n",
       "    .dataframe tbody tr th:only-of-type {\n",
       "        vertical-align: middle;\n",
       "    }\n",
       "\n",
       "    .dataframe tbody tr th {\n",
       "        vertical-align: top;\n",
       "    }\n",
       "\n",
       "    .dataframe thead th {\n",
       "        text-align: right;\n",
       "    }\n",
       "</style>\n",
       "<table border=\"1\" class=\"dataframe\">\n",
       "  <thead>\n",
       "    <tr style=\"text-align: right;\">\n",
       "      <th></th>\n",
       "      <th>Company_Name</th>\n",
       "      <th>Mar_Cap_Crore</th>\n",
       "      <th>Sales_Qtr_Crore</th>\n",
       "    </tr>\n",
       "    <tr>\n",
       "      <th>Sr.No.</th>\n",
       "      <th></th>\n",
       "      <th></th>\n",
       "      <th></th>\n",
       "    </tr>\n",
       "  </thead>\n",
       "  <tbody>\n",
       "    <tr>\n",
       "      <th>1</th>\n",
       "      <td>Reliance Inds.</td>\n",
       "      <td>583436.72</td>\n",
       "      <td>99810.00</td>\n",
       "    </tr>\n",
       "    <tr>\n",
       "      <th>2</th>\n",
       "      <td>TCS</td>\n",
       "      <td>563709.84</td>\n",
       "      <td>30904.00</td>\n",
       "    </tr>\n",
       "    <tr>\n",
       "      <th>3</th>\n",
       "      <td>HDFC Bank</td>\n",
       "      <td>482953.59</td>\n",
       "      <td>20581.27</td>\n",
       "    </tr>\n",
       "    <tr>\n",
       "      <th>4</th>\n",
       "      <td>ITC</td>\n",
       "      <td>320985.27</td>\n",
       "      <td>9772.02</td>\n",
       "    </tr>\n",
       "    <tr>\n",
       "      <th>5</th>\n",
       "      <td>H D F C</td>\n",
       "      <td>289497.37</td>\n",
       "      <td>16840.51</td>\n",
       "    </tr>\n",
       "    <tr>\n",
       "      <th>6</th>\n",
       "      <td>Hind. Unilever</td>\n",
       "      <td>288265.26</td>\n",
       "      <td>8590.00</td>\n",
       "    </tr>\n",
       "    <tr>\n",
       "      <th>7</th>\n",
       "      <td>Maruti Suzuki</td>\n",
       "      <td>263493.81</td>\n",
       "      <td>19283.20</td>\n",
       "    </tr>\n",
       "    <tr>\n",
       "      <th>8</th>\n",
       "      <td>Infosys</td>\n",
       "      <td>248320.35</td>\n",
       "      <td>17794.00</td>\n",
       "    </tr>\n",
       "    <tr>\n",
       "      <th>9</th>\n",
       "      <td>O N G C</td>\n",
       "      <td>239981.50</td>\n",
       "      <td>22995.88</td>\n",
       "    </tr>\n",
       "    <tr>\n",
       "      <th>10</th>\n",
       "      <td>St Bk of India</td>\n",
       "      <td>232763.33</td>\n",
       "      <td>57014.08</td>\n",
       "    </tr>\n",
       "  </tbody>\n",
       "</table>\n",
       "</div>"
      ],
      "text/plain": [
       "          Company_Name  Mar_Cap_Crore  Sales_Qtr_Crore\n",
       "Sr.No.                                                \n",
       "1       Reliance Inds.      583436.72         99810.00\n",
       "2                  TCS      563709.84         30904.00\n",
       "3            HDFC Bank      482953.59         20581.27\n",
       "4                  ITC      320985.27          9772.02\n",
       "5              H D F C      289497.37         16840.51\n",
       "6       Hind. Unilever      288265.26          8590.00\n",
       "7        Maruti Suzuki      263493.81         19283.20\n",
       "8              Infosys      248320.35         17794.00\n",
       "9              O N G C      239981.50         22995.88\n",
       "10      St Bk of India      232763.33         57014.08"
      ]
     },
     "execution_count": 22,
     "metadata": {},
     "output_type": "execute_result"
    }
   ],
   "source": [
    "# print top 10 companies with highest market capitalization\n",
    "top_companies_Mar_Cap = df.nlargest(10 , \"Mar_Cap_Crore\" , keep = 'all')\n",
    "top_companies_Mar_Cap"
   ]
  },
  {
   "cell_type": "code",
   "execution_count": 23,
   "id": "d9e1f967",
   "metadata": {},
   "outputs": [
    {
     "data": {
      "text/html": [
       "<div>\n",
       "<style scoped>\n",
       "    .dataframe tbody tr th:only-of-type {\n",
       "        vertical-align: middle;\n",
       "    }\n",
       "\n",
       "    .dataframe tbody tr th {\n",
       "        vertical-align: top;\n",
       "    }\n",
       "\n",
       "    .dataframe thead th {\n",
       "        text-align: right;\n",
       "    }\n",
       "</style>\n",
       "<table border=\"1\" class=\"dataframe\">\n",
       "  <thead>\n",
       "    <tr style=\"text-align: right;\">\n",
       "      <th></th>\n",
       "      <th>Company_Name</th>\n",
       "      <th>Mar_Cap_Crore</th>\n",
       "      <th>Sales_Qtr_Crore</th>\n",
       "    </tr>\n",
       "    <tr>\n",
       "      <th>Sr.No.</th>\n",
       "      <th></th>\n",
       "      <th></th>\n",
       "      <th></th>\n",
       "    </tr>\n",
       "  </thead>\n",
       "  <tbody>\n",
       "    <tr>\n",
       "      <th>15</th>\n",
       "      <td>I O C L</td>\n",
       "      <td>178017.48</td>\n",
       "      <td>110666.93</td>\n",
       "    </tr>\n",
       "    <tr>\n",
       "      <th>1</th>\n",
       "      <td>Reliance Inds.</td>\n",
       "      <td>583436.72</td>\n",
       "      <td>99810.00</td>\n",
       "    </tr>\n",
       "    <tr>\n",
       "      <th>24</th>\n",
       "      <td>Tata Motors</td>\n",
       "      <td>117071.87</td>\n",
       "      <td>74156.07</td>\n",
       "    </tr>\n",
       "    <tr>\n",
       "      <th>28</th>\n",
       "      <td>B P C L</td>\n",
       "      <td>98278.00</td>\n",
       "      <td>60616.36</td>\n",
       "    </tr>\n",
       "    <tr>\n",
       "      <th>55</th>\n",
       "      <td>H P C L</td>\n",
       "      <td>58034.78</td>\n",
       "      <td>57474.25</td>\n",
       "    </tr>\n",
       "    <tr>\n",
       "      <th>10</th>\n",
       "      <td>St Bk of India</td>\n",
       "      <td>232763.33</td>\n",
       "      <td>57014.08</td>\n",
       "    </tr>\n",
       "    <tr>\n",
       "      <th>123</th>\n",
       "      <td>Rajesh Exports</td>\n",
       "      <td>23495.54</td>\n",
       "      <td>41304.84</td>\n",
       "    </tr>\n",
       "    <tr>\n",
       "      <th>41</th>\n",
       "      <td>Tata Steel</td>\n",
       "      <td>73376.14</td>\n",
       "      <td>32464.14</td>\n",
       "    </tr>\n",
       "    <tr>\n",
       "      <th>2</th>\n",
       "      <td>TCS</td>\n",
       "      <td>563709.84</td>\n",
       "      <td>30904.00</td>\n",
       "    </tr>\n",
       "    <tr>\n",
       "      <th>14</th>\n",
       "      <td>Larsen &amp; Toubro</td>\n",
       "      <td>180860.74</td>\n",
       "      <td>28747.45</td>\n",
       "    </tr>\n",
       "  </tbody>\n",
       "</table>\n",
       "</div>"
      ],
      "text/plain": [
       "           Company_Name  Mar_Cap_Crore  Sales_Qtr_Crore\n",
       "Sr.No.                                                 \n",
       "15              I O C L      178017.48        110666.93\n",
       "1        Reliance Inds.      583436.72         99810.00\n",
       "24          Tata Motors      117071.87         74156.07\n",
       "28              B P C L       98278.00         60616.36\n",
       "55              H P C L       58034.78         57474.25\n",
       "10       St Bk of India      232763.33         57014.08\n",
       "123      Rajesh Exports       23495.54         41304.84\n",
       "41           Tata Steel       73376.14         32464.14\n",
       "2                   TCS      563709.84         30904.00\n",
       "14      Larsen & Toubro      180860.74         28747.45"
      ]
     },
     "execution_count": 23,
     "metadata": {},
     "output_type": "execute_result"
    }
   ],
   "source": [
    "# print top 10 companies with highest Quarterly Sales\n",
    "top_companies_Qtr_Sales = df.nlargest(10 , \"Sales_Qtr_Crore\" , keep = 'all')\n",
    "top_companies_Qtr_Sales"
   ]
  },
  {
   "cell_type": "code",
   "execution_count": null,
   "id": "420fef54",
   "metadata": {},
   "outputs": [],
   "source": []
  },
  {
   "cell_type": "code",
   "execution_count": 24,
   "id": "ca19ecae",
   "metadata": {},
   "outputs": [
    {
     "data": {
      "image/png": "[encoded data removed]",
      "text/plain": [
       "<Figure size 640x480 with 1 Axes>"
      ]
     },
     "metadata": {},
     "output_type": "display_data"
    }
   ],
   "source": [
    "# plot scatter plot of Mar_Cap_Crore Vs Sales_Qtr_Crore\n",
    "\n",
    "sns.scatterplot(x = \"Mar_Cap_Crore\" , y = \"Sales_Qtr_Crore\" ,color = \"green\",edgecolor = \"cyan\" , data = df)\n",
    "plt.title(\"Distribution of Market Capital Score with Quartely Sales of companies\")\n",
    "plt.show()"
   ]
  },
  {
   "cell_type": "code",
   "execution_count": 25,
   "id": "385914df",
   "metadata": {},
   "outputs": [],
   "source": [
    "import warnings\n",
    "warnings.filterwarnings(\"ignore\")"
   ]
  },
  {
   "cell_type": "code",
   "execution_count": 26,
   "id": "9abfe517",
   "metadata": {},
   "outputs": [
    {
     "data": {
      "image/png": "[encoded data removed]",
      "text/plain": [
       "<Figure size 640x480 with 2 Axes>"
      ]
     },
     "metadata": {},
     "output_type": "display_data"
    }
   ],
   "source": [
    "# plot the heatmat to see correlation between the variables\n",
    "correlation = df.corr()\n",
    "sns.heatmap(correlation , annot = True)\n",
    "plt.show()"
   ]
  },
  {
   "cell_type": "markdown",
   "id": "555d6a85",
   "metadata": {},
   "source": [
    "Market Capital and quartely sales of companies are positively correlated."
   ]
  },
  {
   "cell_type": "markdown",
   "id": "c0cdcf94",
   "metadata": {},
   "source": [
    "Analysis Done:\n",
    "   1. Data understanding and preprocessing\n",
    "   2. Data Cleaning (handling missing values)\n",
    "   3. Outliers detection\n",
    "   4. Identification of trends and patterns in data\n",
    "   5. Data visualization"
   ]
  },
  {
   "cell_type": "markdown",
   "id": "8d0ecc54",
   "metadata": {},
   "source": [
    "Findings and Conclusion:\n",
    "    \n",
    "   1. In this project, we analyzed a dataset of approximately 500 records from leading companies in the market finance sector. The analysis identified the top 10 companies with the highest market capitalization and quarterly sales. \n",
    "   \n",
    "   \n",
    "   2. According to the data, Reliance Industries holds the highest market capitalization, followed by Tata Consultancy Services and HDFC Bank. In terms of quarterly sales, Indian Oil Corporation leads, with Reliance Industries and Tata Motors also ranking highly.\n",
    "   \n",
    "   \n",
    "   3. We found a strong relationship and positive correlation between market capitalization and quarterly sales. The linearity observed between these variables indicates that market capitalization directly influences quarterly sales.\n",
    "   \n",
    "   \n",
    "   3. In conclusion, companies with greater market capitalization are leading the competition, positioning themselves as significant competitors in the market. \n",
    "   \n",
    "   \n",
    "   4. The data shows that key competitors include service-based companies like Reliance Industries and Indian Oil Corporation, along with other major players such as Tata Motors, Tata Consultancy Services, and HDFC Bank."
   ]
  },
  {
   "cell_type": "code",
   "execution_count": null,
   "id": "8d86b043",
   "metadata": {},
   "outputs": [],
   "source": []
  }
 ],
 "metadata": {
  "kernelspec": {
   "display_name": "Python 3 (ipykernel)",
   "language": "python",
   "name": "python3"
  },
  "language_info": {
   "codemirror_mode": {
    "name": "ipython",
    "version": 3
   },
   "file_extension": ".py",
   "mimetype": "text/x-python",
   "name": "python",
   "nbconvert_exporter": "python",
   "pygments_lexer": "ipython3",
   "version": "3.10.9"
  }
 },
 "nbformat": 4,
 "nbformat_minor": 5
}
